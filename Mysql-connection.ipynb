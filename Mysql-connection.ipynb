{
 "cells": [
  {
   "cell_type": "code",
   "execution_count": 20,
   "id": "4fd2ef2c",
   "metadata": {},
   "outputs": [],
   "source": [
    "import pandas as pd"
   ]
  },
  {
   "cell_type": "code",
   "execution_count": 21,
   "id": "d45e18b8",
   "metadata": {},
   "outputs": [],
   "source": [
    "import mysql.connector\n",
    "\n",
    "conn = mysql.connector.connect(\n",
    "    host=\"localhost\",\n",
    "    user=\"root\",\n",
    "    password=\"Deepak@121\",\n",
    "    database=\"videogamesdb\"\n",
    ")\n",
    "cursor = conn.cursor()\n"
   ]
  },
  {
   "cell_type": "code",
   "execution_count": 22,
   "id": "8d0f4c9c",
   "metadata": {},
   "outputs": [],
   "source": [
    "cursor.execute(\"CREATE DATABASE IF NOT EXISTS VideoGamesdb\")\n",
    "cursor.execute(\"USE VideoGamesdb\")\n"
   ]
  },
  {
   "cell_type": "code",
   "execution_count": 25,
   "id": "481a43bf",
   "metadata": {},
   "outputs": [],
   "source": [
    "# Create Games Table\n",
    "\n",
    "cursor.execute(\"\"\"\n",
    "CREATE TABLE games (\n",
    "    id INT AUTO_INCREMENT PRIMARY KEY,\n",
    "    Title VARCHAR(255),\n",
    "    Release_Date DATE,\n",
    "    Team VARCHAR(255),\n",
    "    Rating FLOAT,\n",
    "    Times_Listed INT,\n",
    "    Genres VARCHAR(255),\n",
    "    Summary TEXT,\n",
    "    Reviews TEXT,\n",
    "    Plays INT,\n",
    "    Playing INT,\n",
    "    Backlogs INT,\n",
    "    Wishlist INT\n",
    ");\n",
    "\"\"\")\n"
   ]
  },
  {
   "cell_type": "code",
   "execution_count": 26,
   "id": "d1a45372",
   "metadata": {},
   "outputs": [],
   "source": [
    "games = pd.read_csv(\"games_clean.csv\")"
   ]
  },
  {
   "cell_type": "code",
   "execution_count": 27,
   "id": "cc773130",
   "metadata": {},
   "outputs": [],
   "source": [
    "# Missing values handle\n",
    "games['Summary'] = games['Summary'].fillna(\"No Summary\")\n",
    "games['Reviews'] = games['Reviews'].fillna(\"No Reviews\")\n"
   ]
  },
  {
   "cell_type": "code",
   "execution_count": 28,
   "id": "68f6aeda",
   "metadata": {},
   "outputs": [],
   "source": [
    "# Load cleaned CSV\n",
    "games = pd.read_csv(\"games_clean.csv\")\n",
    "\n",
    "# Fill NaNs\n",
    "games['Summary'] = games['Summary'].fillna(\"No Summary Available\")\n",
    "games['Reviews'] = games['Reviews'].fillna(\"No Reviews\")\n",
    "\n",
    "# Insert into SQL\n",
    "for _, row in games.iterrows():\n",
    "    cursor.execute (\"\"\"\n",
    "        INSERT INTO games \n",
    "        (Title, Release_Date, Team, Rating, Times_Listed, Genres, Summary, Reviews, Plays, Playing, Backlogs, Wishlist)\n",
    "        VALUES (%s, %s, %s, %s, %s, %s, %s, %s, %s, %s, %s, %s)\n",
    "    \"\"\", (\n",
    "        row['Title'], \n",
    "        row['Release_Date'], \n",
    "        row['Team'], \n",
    "        row['Rating'], \n",
    "        row['Times_Listed'], \n",
    "        row['Genres'], \n",
    "        row['Summary'], \n",
    "        row['Reviews'], \n",
    "        row['Plays'], \n",
    "        row['Playing'], \n",
    "        row['Backlogs'], \n",
    "        row['Wishlist']\n",
    "    ))\n",
    "\n",
    "conn.commit()\n"
   ]
  },
  {
   "cell_type": "code",
   "execution_count": 29,
   "id": "d1e799e6",
   "metadata": {},
   "outputs": [],
   "source": [
    "sales = pd.read_csv(\"sales_clean.csv\")"
   ]
  },
  {
   "cell_type": "code",
   "execution_count": 32,
   "id": "1de0ba59",
   "metadata": {},
   "outputs": [
    {
     "data": {
      "text/html": [
       "<div>\n",
       "<style scoped>\n",
       "    .dataframe tbody tr th:only-of-type {\n",
       "        vertical-align: middle;\n",
       "    }\n",
       "\n",
       "    .dataframe tbody tr th {\n",
       "        vertical-align: top;\n",
       "    }\n",
       "\n",
       "    .dataframe thead th {\n",
       "        text-align: right;\n",
       "    }\n",
       "</style>\n",
       "<table border=\"1\" class=\"dataframe\">\n",
       "  <thead>\n",
       "    <tr style=\"text-align: right;\">\n",
       "      <th></th>\n",
       "      <th>Rank</th>\n",
       "      <th>Name</th>\n",
       "      <th>Platform</th>\n",
       "      <th>Year</th>\n",
       "      <th>Genre</th>\n",
       "      <th>Publisher</th>\n",
       "      <th>NA_Sales</th>\n",
       "      <th>EU_Sales</th>\n",
       "      <th>JP_Sales</th>\n",
       "      <th>Other_Sales</th>\n",
       "      <th>Global_Sales</th>\n",
       "      <th>clean_title</th>\n",
       "    </tr>\n",
       "  </thead>\n",
       "  <tbody>\n",
       "    <tr>\n",
       "      <th>0</th>\n",
       "      <td>1</td>\n",
       "      <td>Wii Sports</td>\n",
       "      <td>Wii</td>\n",
       "      <td>NaN</td>\n",
       "      <td>Sports</td>\n",
       "      <td>Nintendo</td>\n",
       "      <td>41.49</td>\n",
       "      <td>29.02</td>\n",
       "      <td>3.77</td>\n",
       "      <td>8.46</td>\n",
       "      <td>82.74</td>\n",
       "      <td>wii sports</td>\n",
       "    </tr>\n",
       "  </tbody>\n",
       "</table>\n",
       "</div>"
      ],
      "text/plain": [
       "   Rank        Name Platform  Year   Genre Publisher  NA_Sales  EU_Sales  \\\n",
       "0     1  Wii Sports      Wii   NaN  Sports  Nintendo     41.49     29.02   \n",
       "\n",
       "   JP_Sales  Other_Sales  Global_Sales clean_title  \n",
       "0      3.77         8.46         82.74  wii sports  "
      ]
     },
     "execution_count": 32,
     "metadata": {},
     "output_type": "execute_result"
    }
   ],
   "source": [
    "sales.head(1)"
   ]
  },
  {
   "cell_type": "code",
   "execution_count": 33,
   "id": "299ae0b8",
   "metadata": {},
   "outputs": [],
   "source": [
    "#Create sales table \n",
    "\n",
    "cursor.execute(\"\"\"\n",
    "CREATE TABLE IF NOT EXISTS sales (\n",
    "    `Rank` INT,\n",
    "    Name VARCHAR(255),\n",
    "    Platform VARCHAR(100),\n",
    "    Year DATE,\n",
    "    Genre VARCHAR(100),\n",
    "    Publisher VARCHAR(255),\n",
    "    NA_Sales FLOAT,\n",
    "    EU_Sales FLOAT,\n",
    "    JP_Sales FLOAT,\n",
    "    Other_Sales FLOAT,\n",
    "    Global_Sales FLOAT\n",
    ")\n",
    "\"\"\")"
   ]
  },
  {
   "cell_type": "code",
   "execution_count": null,
   "id": "cc01aba0",
   "metadata": {},
   "outputs": [],
   "source": [
    "# Year format in YYYY-01-01\n",
    "sales['Year'] = pd.to_datetime(sales['Year'], errors='coerce').fillna(pd.Timestamp(\"1900-01-01\"))\n"
   ]
  },
  {
   "cell_type": "code",
   "execution_count": 42,
   "id": "0ffbaefe",
   "metadata": {},
   "outputs": [
    {
     "name": "stdout",
     "output_type": "stream",
     "text": [
      "Sales data inserted successfully!\n"
     ]
    }
   ],
   "source": [
    "for _, row in sales.iterrows():\n",
    "    cursor.execute(\"\"\"\n",
    "        INSERT INTO sales\n",
    "        (`Rank`, Name, Platform, Year, Genre, Publisher, NA_Sales, EU_Sales, JP_Sales, Other_Sales, Global_Sales)\n",
    "        VALUES (%s, %s, %s, %s, %s, %s, %s, %s, %s, %s, %s)\n",
    "    \"\"\", (\n",
    "        row['Rank'],\n",
    "        row['Name'],\n",
    "        row['Platform'],\n",
    "        row['Year'].strftime('%Y-%m-%d'),\n",
    "        row['Genre'],\n",
    "        row['Publisher'],\n",
    "        row['NA_Sales'],\n",
    "        row['EU_Sales'],\n",
    "        row['JP_Sales'],\n",
    "        row['Other_Sales'],\n",
    "        row['Global_Sales']\n",
    "    ))\n",
    "    \n",
    "conn.commit()\n",
    "print(\"Sales data inserted successfully!\")"
   ]
  },
  {
   "cell_type": "code",
   "execution_count": 35,
   "id": "2eee62d8",
   "metadata": {},
   "outputs": [
    {
     "name": "stdout",
     "output_type": "stream",
     "text": [
      "Merged table created successfully!\n"
     ]
    }
   ],
   "source": [
    "# Create Merged Table\n",
    "cursor.execute(\"\"\"\n",
    "CREATE TABLE IF NOT EXISTS merged_games_sales (\n",
    "    Title VARCHAR(255),\n",
    "    Release_Date DATE,\n",
    "    Team VARCHAR(255),\n",
    "    Rating FLOAT,\n",
    "    Times_Listed INT,\n",
    "    Genres VARCHAR(255),\n",
    "    Summary TEXT,\n",
    "    Reviews TEXT,\n",
    "    Plays INT,\n",
    "    Playing INT,\n",
    "    Backlogs INT,\n",
    "    Wishlist INT,\n",
    "    `Rank` INT,\n",
    "    Platform VARCHAR(100),\n",
    "    Year DATE,\n",
    "    Genre VARCHAR(100),\n",
    "    Publisher VARCHAR(255),\n",
    "    NA_Sales FLOAT,\n",
    "    EU_Sales FLOAT,\n",
    "    JP_Sales FLOAT,\n",
    "    Other_Sales FLOAT,\n",
    "    Global_Sales FLOAT\n",
    ")\n",
    "\"\"\")\n",
    "print(\"Merged table created successfully!\")"
   ]
  },
  {
   "cell_type": "code",
   "execution_count": 39,
   "id": "8c7f38b9",
   "metadata": {},
   "outputs": [],
   "source": [
    "merged = pd.read_csv(\"merged_games_sales.csv\")"
   ]
  },
  {
   "cell_type": "code",
   "execution_count": 41,
   "id": "bf7cc63d",
   "metadata": {},
   "outputs": [
    {
     "name": "stdout",
     "output_type": "stream",
     "text": [
      "Merged data inserted successfully!\n"
     ]
    }
   ],
   "source": [
    "# Dates format in YYYY-MM-DD\n",
    "merged['Release_Date'] = pd.to_datetime(merged['Release_Date'], errors='coerce').fillna(pd.Timestamp(\"1900-01-01\"))\n",
    "merged['Year'] = pd.to_datetime(merged['Year'], errors='coerce').fillna(pd.Timestamp(\"1900-01-01\"))\n",
    "\n",
    "# Insert merged data\n",
    "for _, row in merged.iterrows():\n",
    "    cursor.execute(\"\"\"\n",
    "        INSERT INTO merged_games_sales\n",
    "        (Title, Release_Date, Team, Rating, Times_Listed, Genres, Summary, Reviews, Plays, Playing, Backlogs, Wishlist,\n",
    "        `Rank`, Platform, Year, Genre, Publisher, NA_Sales, EU_Sales, JP_Sales, Other_Sales, Global_Sales)\n",
    "        VALUES (%s, %s, %s, %s, %s, %s, %s, %s, %s, %s, %s, %s, %s, %s, %s, %s, %s, %s, %s, %s, %s, %s)\n",
    "    \"\"\", (\n",
    "        row['Title'],\n",
    "        row['Release_Date'].strftime('%Y-%m-%d'),\n",
    "        row['Team'],\n",
    "        row['Rating'],\n",
    "        row['Times_Listed'],\n",
    "        row['Genres'],\n",
    "        row['Summary'],\n",
    "        row['Reviews'],\n",
    "        row['Plays'],\n",
    "        row['Playing'],\n",
    "        row['Backlogs'],\n",
    "        row['Wishlist'],\n",
    "        row['Rank'],\n",
    "        row['Platform'],\n",
    "        row['Year'].strftime('%Y-%m-%d'),\n",
    "        row['Genre'],\n",
    "        row['Publisher'],\n",
    "        row['NA_Sales'],\n",
    "        row['EU_Sales'],\n",
    "        row['JP_Sales'],\n",
    "        row['Other_Sales'],\n",
    "        row['Global_Sales']\n",
    "    ))\n",
    "\n",
    "conn.commit()\n",
    "print(\"Merged data inserted successfully!\")"
   ]
  }
 ],
 "metadata": {
  "kernelspec": {
   "display_name": "Python 3",
   "language": "python",
   "name": "python3"
  },
  "language_info": {
   "codemirror_mode": {
    "name": "ipython",
    "version": 3
   },
   "file_extension": ".py",
   "mimetype": "text/x-python",
   "name": "python",
   "nbconvert_exporter": "python",
   "pygments_lexer": "ipython3",
   "version": "3.11.9"
  }
 },
 "nbformat": 4,
 "nbformat_minor": 5
}
